{
 "cells": [
  {
   "cell_type": "markdown",
   "metadata": {},
   "source": [
    "## Pyber Analysis\n",
    "\n",
    "According to the city data and ride data CSV dataset, Urban riders constituted about 68% of the total rides and contributed roughly 63% toward the total fare (Pyber’s revenue). Correspondingly, 87% of the total drivers were primarily driving within Urban cities. Moreover, urban riders tended to make more trips than rural and suburban riders, but rural riders were more inclined to take trips with higher average cost. Thus, from Pyber’s business data intelligence perspective, investing more drivers into rural and suburban areas may show signs of enhancing market share and increasing their revenue stream, but further market research should be conducted before making such strategic business decision. "
   ]
  },
  {
   "cell_type": "code",
   "execution_count": null,
   "metadata": {},
   "outputs": [],
   "source": []
  }
 ],
 "metadata": {
  "kernelspec": {
   "display_name": "Python 3",
   "language": "python",
   "name": "python3"
  },
  "language_info": {
   "codemirror_mode": {
    "name": "ipython",
    "version": 3
   },
   "file_extension": ".py",
   "mimetype": "text/x-python",
   "name": "python",
   "nbconvert_exporter": "python",
   "pygments_lexer": "ipython3",
   "version": "3.7.3"
  }
 },
 "nbformat": 4,
 "nbformat_minor": 2
}
